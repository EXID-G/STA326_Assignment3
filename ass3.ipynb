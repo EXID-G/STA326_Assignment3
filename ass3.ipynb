{
 "cells": [
  {
   "cell_type": "markdown",
   "metadata": {},
   "source": [
    "# Preparation"
   ]
  },
  {
   "cell_type": "code",
   "execution_count": null,
   "metadata": {},
   "outputs": [],
   "source": [
    "import torch\n",
    "torch.__version__"
   ]
  },
  {
   "cell_type": "code",
   "execution_count": null,
   "metadata": {},
   "outputs": [],
   "source": [
    "import os\n",
    "import pandas as pd\n",
    "import numpy as np\n",
    "import random\n",
    "from torch import nn\n",
    "import torch.optim as optim\n",
    "from tqdm import tqdm"
   ]
  },
  {
   "cell_type": "code",
   "execution_count": null,
   "metadata": {},
   "outputs": [],
   "source": [
    "def seed_everything(seed):\n",
    "    random.seed(seed)\n",
    "    os.environ['PYTHONHASHSEED'] = str(seed)\n",
    "    np.random.seed(seed)\n",
    "    torch.manual_seed(seed)\n",
    "    if torch.cuda.is_available():\n",
    "        torch.cuda.manual_seed(seed)\n",
    "        torch.backends.cudnn.deterministic = True\n",
    "        torch.backends.cudnn.benchmark = True\n",
    "        torch.backends.cudnn.enabled = True\n",
    "seed_everything(2024)"
   ]
  },
  {
   "cell_type": "code",
   "execution_count": null,
   "metadata": {},
   "outputs": [],
   "source": [
    "device = (\n",
    "    \"cuda\"\n",
    "    if torch.cuda.is_available()\n",
    "    else \"mps\"\n",
    "    if torch.backends.mps.is_available()\n",
    "    else \"cpu\"\n",
    ")\n",
    "print(f\"Using {device} device\")"
   ]
  },
  {
   "cell_type": "markdown",
   "metadata": {},
   "source": [
    "# Construct network"
   ]
  },
  {
   "cell_type": "code",
   "execution_count": null,
   "metadata": {},
   "outputs": [],
   "source": [
    "class RecommenderModel(nn.Module):\n",
    "    def __init__(self, config):\n",
    "        super(RecommenderModel, self).__init__()\n",
    "        self.config = config\n",
    "        self.X = config[\"layers_num(X)\"]\n",
    "        self.model_type = config['model_type']\n",
    "\n",
    "        self.embedding_user = torch.nn.Embedding(num_embeddings=config['num_users'], embedding_dim=config['latent_dim'])\n",
    "        self.embedding_item = torch.nn.Embedding(num_embeddings=config['num_items'], embedding_dim=config['latent_dim'])\n",
    "\n",
    "        if self.model_type == \"GMF\":\n",
    "            self.linear_gmf = torch.nn.Linear(in_features=config['latent_dim'], out_features=1, bias = False)\n",
    "        else:\n",
    "            ### the mlp part is necessary for `NeuMF` and `MLP` model\n",
    "            if self.config[\"layers_num(X)\"] != 0:\n",
    "                self.fc_layers = torch.nn.ModuleList()\n",
    "                for idx, (in_size, out_size) in enumerate(zip(self.config['layers'][:-1], self.config['layers'][1:])):\n",
    "                    self.fc_layers.append(torch.nn.Linear(in_size, out_size,bias = True))\n",
    "\n",
    "            if self.model_type == \"MLP\":\n",
    "                self.linear_mlp = torch.nn.Linear(in_features=self.config['layers'][-1], out_features=1, bias = False)\n",
    "                self.linear_mlp0 = torch.nn.Linear(in_features=self.config['latent_dim']*2, out_features=1, bias = False)\n",
    "            elif self.model_type == \"NeuMF\":\n",
    "                self.linear_neumf = torch.nn.Linear(in_features=self.config['latent_dim']*2+self.X, out_features=1,bias = False)\n",
    "        self.relu = torch.nn.ReLU()\n",
    "        self.sigmoid = torch.nn.Sigmoid()\n",
    "\n",
    "\n",
    "    def forward(self, user_indices, item_indices):\n",
    "        if self.model_type == 'GMF':\n",
    "            user_embedding_gmf = self.embedding_user(user_indices)\n",
    "            item_embedding_gmf = self.embedding_item(item_indices)\n",
    "            vector = torch.mul(user_embedding_gmf, item_embedding_gmf)\n",
    "            vector = self.linear_gmf(vector)\n",
    "        else:\n",
    "            #* initiate MLP part\n",
    "            user_embedding_mlp = self.embedding_user(user_indices)\n",
    "            item_embedding_mlp = self.embedding_item(item_indices)\n",
    "\n",
    "            #* `MLP` or `NeuMF`\n",
    "            if self.model_type == 'MLP':    ### only in `MLP` model, `X` can be 0\n",
    "                vector = torch.cat([user_embedding_mlp, item_embedding_mlp], dim=-1)\n",
    "                if self.X != 0:\n",
    "                    for fc_layer in self.fc_layers:\n",
    "                        vector = fc_layer(vector)\n",
    "                        vector = self.relu(vector)\n",
    "                    vector = self.linear_mlp(vector)\n",
    "                else:\n",
    "                    vector = self.linear_mlp0(vector)\n",
    "            elif self.model_type == 'NeuMF':\n",
    "                ################# for gmf\n",
    "                user_embedding_gmf = self.embedding_user(user_indices.long())\n",
    "                item_embedding_gmf = self.embedding_item(item_indices.long())\n",
    "                gmf_vector = torch.mul(user_embedding_gmf, item_embedding_gmf)\n",
    "\n",
    "                #################  for mlp\n",
    "                mlp_vector = torch.cat([user_embedding_mlp, item_embedding_mlp], dim=-1)\n",
    "                for fc_layer in self.fc_layers:\n",
    "                    mlp_vector = fc_layer(mlp_vector)\n",
    "                    mlp_vector = self.relu(mlp_vector)\n",
    "                mlp_vector = self.linear_mlp(mlp_vector)\n",
    "\n",
    "                #################  concat mf and mlp vector\n",
    "                vector = torch.cat([gmf_vector, mlp_vector], dim=-1)\n",
    "                vector = self.linear_neumf(vector)\n",
    "\n",
    "        output = self.sigmoid(vector)\n",
    "        return output.squeeze(1)\n"
   ]
  },
  {
   "cell_type": "markdown",
   "metadata": {},
   "source": [
    "# Load data & data preprocess"
   ]
  },
  {
   "cell_type": "code",
   "execution_count": null,
   "metadata": {},
   "outputs": [],
   "source": [
    "from torch.utils.data import Dataset, DataLoader\n",
    "import scipy.sparse as sp\n",
    "\n",
    "class RatingDataset(Dataset):\n",
    "    def __init__(self, rating_mat, negative_list, user_num, item_num, negative_num=4):\n",
    "        self.user_num = user_num\n",
    "        self.item_num = item_num\n",
    "\n",
    "        # for positive samples\n",
    "        row_idx, col_idx = rating_mat.nonzero()\n",
    "        self.user_ids = row_idx.tolist()\n",
    "        self.item_ids = col_idx.tolist()\n",
    "        # self.ratings = rating_mat[row_idx, col_idx].toarray().astype(np.float32)\n",
    "        self.labels = np.ones(len(row_idx)).tolist()\n",
    "\n",
    "        # print(self.user_num,len(negative_list))\n",
    "        # extend list for negative samples\n",
    "        for i in range(self.user_num):\n",
    "            negatives_items = random.sample(negative_list[i],negative_num)\n",
    "            self.user_ids.extend([i,i,i,i])\n",
    "            self.item_ids.extend(negatives_items)\n",
    "            self.labels.extend([0,0,0,0])\n",
    "\n",
    "    def __len__(self):\n",
    "        return len(self.labels)\n",
    "\n",
    "    def __getitem__(self, idx):\n",
    "        # get user id and item id\n",
    "        user_id = self.user_ids[idx]\n",
    "        item_id = self.item_ids[idx]\n",
    "        labels = self.labels[idx]\n",
    "\n",
    "        # create one hot vector (may not necessary, here I comment it because the embedding only need indices)\n",
    "        # user_vec = torch.zeros(self.user_num,dtype = torch.float32)\n",
    "        # item_vec = torch.zeros(self.item_num,dtype = torch.float32)\n",
    "        # user_vec[user_id] = 1\n",
    "        # item_vec[item_id] = 1\n",
    "        # return user_vec, item_vec, labels\n",
    "        return user_id, item_id, labels\n",
    "\n",
    "def load_rating_file_as_sparse(filename):\n",
    "    num_users, num_items = 0, 0\n",
    "    with open(filename, \"r\") as f:\n",
    "        for line in f:\n",
    "            arr = line.split(\"\\t\")\n",
    "            user, item = int(arr[0]), int(arr[1])\n",
    "            num_users = max(num_users, user)\n",
    "            num_items = max(num_items, item)\n",
    "\n",
    "    num_users += 1\n",
    "    num_items += 1\n",
    "    mat = sp.dok_matrix((num_users, num_items), dtype=np.float32)\n",
    "    with open(filename, \"r\") as f:\n",
    "        for line in f:\n",
    "            arr = line.split(\"\\t\")\n",
    "            user, item, rating = int(arr[0]), int(arr[1]), float(arr[2])\n",
    "            if rating > 0:\n",
    "                mat[user, item] = rating\n",
    "    # print(num_users,num_items)\n",
    "    return mat.tocsr(), num_users, num_items\n",
    "\n",
    "def load_negative_file(filename):\n",
    "    negativeList = []\n",
    "    with open(filename, \"r\") as f:\n",
    "        line = f.readline()\n",
    "        while line != None and line != \"\":\n",
    "            arr = line.split(\"\\t\")\n",
    "            negatives = []\n",
    "            for x in arr[1: ]:\n",
    "                negatives.append(int(x))\n",
    "            negativeList.append(negatives)\n",
    "            line = f.readline()\n",
    "    return negativeList"
   ]
  },
  {
   "cell_type": "code",
   "execution_count": null,
   "metadata": {},
   "outputs": [],
   "source": [
    "# import pandas as pd\n",
    "# df = pd.read_csv(\"Data/ml-1m.train.rating\",sep='\\t', header=None, names=['uid', 'mid', 'rating', 'timestamp'], engine='python')\n",
    "# df"
   ]
  },
  {
   "cell_type": "code",
   "execution_count": null,
   "metadata": {},
   "outputs": [],
   "source": [
    "# df2 = pd.read_csv(\"Data/ml-1m.test.negative\",sep = \"\\t\",header=None)\n",
    "# df2"
   ]
  },
  {
   "cell_type": "markdown",
   "metadata": {},
   "source": [
    "# Trian and Test"
   ]
  },
  {
   "cell_type": "code",
   "execution_count": null,
   "metadata": {
    "notebookRunGroups": {
     "groupValue": "2"
    }
   },
   "outputs": [],
   "source": [
    "BATCH_SIZE = 256\n",
    "NUMEPOCHS = 50"
   ]
  },
  {
   "cell_type": "code",
   "execution_count": null,
   "metadata": {},
   "outputs": [],
   "source": [
    "rating_mat, num_of_user, num_of_item = load_rating_file_as_sparse(\"Data/ml-1m.train.rating\")\n",
    "negative_sample_list = load_negative_file(\"Data/ml-1m.test.negative\")\n",
    "\n",
    "train_dataset = RatingDataset(rating_mat, negative_sample_list, num_of_user, num_of_item, 9)\n",
    "train_dataloader = DataLoader(train_dataset, batch_size=BATCH_SIZE, shuffle=True)"
   ]
  },
  {
   "cell_type": "code",
   "execution_count": null,
   "metadata": {},
   "outputs": [],
   "source": [
    "config = {\n",
    "    'num_users': num_of_user,\n",
    "    'num_items': num_of_item,\n",
    "    'latent_dim': 8,\n",
    "    \"layers_num(X)\" : 4,\n",
    "    'layers': [64, 32, 16, 8],\n",
    "    'model_type': 'GMF'     #　MLP, NeuMF\n",
    "}\n",
    "\n",
    "model = RecommenderModel(config)\n",
    "model = model.to(device)\n",
    "print(model)"
   ]
  },
  {
   "cell_type": "code",
   "execution_count": null,
   "metadata": {},
   "outputs": [],
   "source": [
    "# 定义损失函数和优化器\n",
    "criterion = nn.BCELoss()\n",
    "optimizer = optim.Adam(model.parameters(), lr=0.001)\n",
    "\n",
    "# 训练模型\n",
    "model.train()\n",
    "for epoch in tqdm(range(NUMEPOCHS)):\n",
    "    for user, item, label in train_dataloader:  # dataloader应返回用户ID、物品ID和标签（1表示正样本，0表示负样本）\n",
    "        optimizer.zero_grad()\n",
    "        user,item,label = user.to(device), item.to(device), label.float().to(device)\n",
    "        output = model(user, item)\n",
    "        loss = criterion(output, label)\n",
    "        loss.backward()\n",
    "        optimizer.step()\n",
    "    print(f'Epoch {epoch+1}, Loss: {loss.item()}')"
   ]
  },
  {
   "cell_type": "markdown",
   "metadata": {},
   "source": [
    "## Reproduce the ablation study --- MLP with different layers"
   ]
  },
  {
   "cell_type": "markdown",
   "metadata": {},
   "source": [
    " K: 8, 16, 32, 64\n",
    " \n",
    " layers (X): 0, 1, 2, 3, 4"
   ]
  }
 ],
 "metadata": {
  "kernelspec": {
   "display_name": "Python 3",
   "language": "python",
   "name": "python3"
  },
  "language_info": {
   "codemirror_mode": {
    "name": "ipython",
    "version": 3
   },
   "file_extension": ".py",
   "mimetype": "text/x-python",
   "name": "python",
   "nbconvert_exporter": "python",
   "pygments_lexer": "ipython3",
   "version": "3.10.12"
  }
 },
 "nbformat": 4,
 "nbformat_minor": 2
}
