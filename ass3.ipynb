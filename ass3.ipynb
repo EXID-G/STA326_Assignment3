{
 "cells": [
  {
   "cell_type": "markdown",
   "metadata": {},
   "source": [
    "# Preparation"
   ]
  },
  {
   "cell_type": "code",
   "execution_count": 1,
   "metadata": {},
   "outputs": [
    {
     "data": {
      "text/plain": [
       "'2.3.0a0+6ddf5cf85e.nv24.04'"
      ]
     },
     "execution_count": 1,
     "metadata": {},
     "output_type": "execute_result"
    }
   ],
   "source": [
    "import torch\n",
    "torch.__version__"
   ]
  },
  {
   "cell_type": "code",
   "execution_count": null,
   "metadata": {},
   "outputs": [],
   "source": [
    "import os\n",
    "from torch import nn\n",
    "# from torch.utils.data import DataLoader\n",
    "# from torchvision import datasets, transforms"
   ]
  },
  {
   "cell_type": "code",
   "execution_count": 5,
   "metadata": {},
   "outputs": [
    {
     "name": "stdout",
     "output_type": "stream",
     "text": [
      "Using cuda device\n"
     ]
    }
   ],
   "source": [
    "device = (\n",
    "    \"cuda\"\n",
    "    if torch.cuda.is_available()\n",
    "    else \"mps\"\n",
    "    if torch.backends.mps.is_available()\n",
    "    else \"cpu\"\n",
    ")\n",
    "print(f\"Using {device} device\")"
   ]
  },
  {
   "cell_type": "markdown",
   "metadata": {},
   "source": [
    "# Construct network"
   ]
  },
  {
   "cell_type": "markdown",
   "metadata": {},
   "source": [
    "## Combination in one class (NO REDUNDANT CODE)"
   ]
  },
  {
   "cell_type": "code",
   "execution_count": 4,
   "metadata": {},
   "outputs": [],
   "source": [
    "class Recommender(nn.Module):\n",
    "    def __init__(self, config):\n",
    "        super(Recommender, self).__init__()\n",
    "        \n",
    "        self.embedding_user = torch.nn.Embedding(num_embeddings=config['num_users'], embedding_dim=config['latent_dim'])\n",
    "        self.embedding_item = torch.nn.Embedding(num_embeddings=config['num_items'], embedding_dim=config['latent_dim'])\n",
    "        \n",
    "        ## MLP part\n",
    "        self.fc_layers = torch.nn.ModuleList()\n",
    "        for idx, (in_size, out_size) in enumerate(zip(config['layers'][:-1], config['layers'][1:])):\n",
    "            self.fc_layers.append(torch.nn.Linear(in_size, out_size))\n",
    "        \n",
    "        self.logits = torch.nn.Linear(in_features=config['layers'][-1] + config['latent_dim'], out_features=1)\n",
    "        self.sigmoid = torch.nn.Sigmoid()\n",
    "        \n",
    "        self.model_type = config['model_type']\n",
    "        \n",
    "    def forward(self, user_indices, item_indices):\n",
    "        user_embedding = self.embedding_user(user_indices)\n",
    "        item_embedding = self.embedding_item(item_indices)\n",
    "        \n",
    "        if self.model_type == 'GMF':\n",
    "            vector = torch.mul(user_embedding, item_embedding)\n",
    "        elif self.model_type == 'MLP':\n",
    "            vector = torch.cat([user_embedding, item_embedding], dim=-1)\n",
    "            for fc_layer in self.fc_layers:\n",
    "                vector = fc_layer(vector)\n",
    "                vector = torch.nn.ReLU()(vector)\n",
    "        elif self.model_type == 'NeuMF':\n",
    "            gmf_vector = torch.mul(user_embedding, item_embedding)\n",
    "            mlp_vector = torch.cat([user_embedding, item_embedding], dim=-1)\n",
    "            for fc_layer in self.fc_layers:\n",
    "                mlp_vector = fc_layer(mlp_vector)\n",
    "                mlp_vector = torch.nn.ReLU()(mlp_vector)\n",
    "            vector = torch.cat([gmf_vector, mlp_vector], dim=-1)\n",
    "        \n",
    "        # logits = self.logits(vector)\n",
    "        # output = self.sigmoid(logits)\n",
    "        output = self.sigmoid(vector)\n",
    "        return output\n"
   ]
  },
  {
   "cell_type": "markdown",
   "metadata": {},
   "source": [
    "# Load data & data preprocess"
   ]
  },
  {
   "cell_type": "code",
   "execution_count": null,
   "metadata": {},
   "outputs": [],
   "source": [
    "from torch.utils.data import Dataset, DataLoader\n",
    "import scipy.sparse as sp\n",
    "\n",
    "class RatingDataset(Dataset):\n",
    "    def __init__(self, filename):\n",
    "        self.data = self.load_rating_file_as_tensor(filename)\n",
    "    \n",
    "    def __len__(self):\n",
    "        return len(self.data)\n",
    "    \n",
    "    def __getitem__(self, idx):\n",
    "        return self.data[idx]\n",
    "    \n",
    "    def load_rating_file_as_tensor(self, filename):\n",
    "        ratingList = []\n",
    "        with open(filename, \"r\") as f:\n",
    "            for line in f:\n",
    "                arr = line.split(\"\\t\")\n",
    "                user, item, rating = int(arr[0]), int(arr[1]), float(arr[2])\n",
    "                ratingList.append([user, item, rating])\n",
    "        return torch.tensor(ratingList, dtype=torch.float32)\n",
    "\n",
    "class NegativeDataset(Dataset):\n",
    "    def __init__(self, filename):\n",
    "        self.data = self.load_negative_file_as_tensor(filename)\n",
    "    \n",
    "    def __len__(self):\n",
    "        return len(self.data)\n",
    "    \n",
    "    def __getitem__(self, idx):\n",
    "        return self.data[idx]\n",
    "    \n",
    "    def load_negative_file_as_tensor(self, filename):\n",
    "        negativeList = []\n",
    "        with open(filename, \"r\") as f:\n",
    "            for line in f:\n",
    "                arr = line.split(\"\\t\")\n",
    "                negatives = [int(x) for x in arr[1:]]\n",
    "                negativeList.append(negatives)\n",
    "        return torch.tensor(negativeList, dtype=torch.int32)\n",
    "\n",
    "def load_rating_file_as_sparse(filename):\n",
    "    num_users, num_items = 0, 0\n",
    "    with open(filename, \"r\") as f:\n",
    "        for line in f:\n",
    "            arr = line.split(\"\\t\")\n",
    "            user, item = int(arr[0]), int(arr[1])\n",
    "            num_users = max(num_users, user)\n",
    "            num_items = max(num_items, item)\n",
    "    \n",
    "    mat = sp.dok_matrix((num_users+1, num_items+1), dtype=np.float32)\n",
    "    with open(filename, \"r\") as f:\n",
    "        for line in f:\n",
    "            arr = line.split(\"\\t\")\n",
    "            user, item, rating = int(arr[0]), int(arr[1]), float(arr[2])\n",
    "            if rating > 0:\n",
    "                mat[user, item] = rating\n",
    "    return mat.tocsr()\n",
    "\n",
    "# 示例用法\n",
    "train_dataset = RatingDataset(\"train.rating\")\n",
    "train_dataloader = DataLoader(train_dataset, batch_size=256, shuffle=True)\n",
    "\n",
    "test_ratings = RatingDataset(\"test.rating\")\n",
    "test_negatives = NegativeDataset(\"test.negative\")\n",
    "\n",
    "for batch in train_dataloader:\n",
    "    # 进行模型训练\n",
    "    pass\n",
    "\n",
    "# 加载评分数据为稀疏矩阵\n",
    "train_matrix = load_rating_file_as_sparse(\"train.rating\")\n"
   ]
  },
  {
   "cell_type": "markdown",
   "metadata": {},
   "source": [
    "# Trian and Test"
   ]
  },
  {
   "cell_type": "code",
   "execution_count": null,
   "metadata": {},
   "outputs": [],
   "source": [
    "# config = {\n",
    "#     'num_users': 1000,\n",
    "#     'num_items': 2000,\n",
    "#     'latent_dim': 8,\n",
    "#     'layers': [64, 32, 16],\n",
    "#     'model_type': 'GMF'     #　MLP, NeuMF\n",
    "# }\n",
    "\n",
    "# user_indices = \n",
    "# item_indices = \n",
    "# recommender = Recommender(config)\n",
    "# output = recommender(user_indices, item_indices)"
   ]
  },
  {
   "cell_type": "code",
   "execution_count": null,
   "metadata": {},
   "outputs": [],
   "source": [
    "model = Recommender().to(device)\n",
    "print(model)"
   ]
  },
  {
   "cell_type": "code",
   "execution_count": null,
   "metadata": {},
   "outputs": [],
   "source": [
    "# calculation loss\n",
    "criterion = torch.nn.BCELoss()\n",
    "output = model(input)  # 模型的输出，是一个概率值\n",
    "loss = criterion(output, target)  # 计算逻辑回归损失\n"
   ]
  }
 ],
 "metadata": {
  "kernelspec": {
   "display_name": "Python 3",
   "language": "python",
   "name": "python3"
  },
  "language_info": {
   "codemirror_mode": {
    "name": "ipython",
    "version": 3
   },
   "file_extension": ".py",
   "mimetype": "text/x-python",
   "name": "python",
   "nbconvert_exporter": "python",
   "pygments_lexer": "ipython3",
   "version": "3.10.12"
  }
 },
 "nbformat": 4,
 "nbformat_minor": 2
}
