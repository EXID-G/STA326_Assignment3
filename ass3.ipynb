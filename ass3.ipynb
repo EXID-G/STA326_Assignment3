{
 "cells": [
  {
   "cell_type": "markdown",
   "metadata": {},
   "source": [
    "# Preparation"
   ]
  },
  {
   "cell_type": "code",
   "execution_count": 48,
   "metadata": {},
   "outputs": [
    {
     "data": {
      "text/plain": [
       "'2.3.0a0+6ddf5cf85e.nv24.04'"
      ]
     },
     "execution_count": 48,
     "metadata": {},
     "output_type": "execute_result"
    }
   ],
   "source": [
    "import torch\n",
    "torch.__version__"
   ]
  },
  {
   "cell_type": "code",
   "execution_count": 49,
   "metadata": {},
   "outputs": [],
   "source": [
    "import os\n",
    "import pandas as pd\n",
    "import numpy as np\n",
    "import random\n",
    "from torch import nn\n",
    "import torch.optim as optim"
   ]
  },
  {
   "cell_type": "code",
   "execution_count": 50,
   "metadata": {},
   "outputs": [],
   "source": [
    "def seed_everything(seed):\n",
    "    random.seed(seed)\n",
    "    os.environ['PYTHONHASHSEED'] = str(seed)\n",
    "    np.random.seed(seed)\n",
    "    torch.manual_seed(seed)\n",
    "    if torch.cuda.is_available():\n",
    "        torch.cuda.manual_seed(seed)\n",
    "        torch.backends.cudnn.deterministic = True\n",
    "        torch.backends.cudnn.benchmark = True\n",
    "        torch.backends.cudnn.enabled = True\n",
    "seed_everything(2024)"
   ]
  },
  {
   "cell_type": "code",
   "execution_count": 51,
   "metadata": {},
   "outputs": [
    {
     "name": "stdout",
     "output_type": "stream",
     "text": [
      "Using cpu device\n"
     ]
    }
   ],
   "source": [
    "device = (\n",
    "    \"cuda\"\n",
    "    if torch.cuda.is_available()\n",
    "    else \"mps\"\n",
    "    if torch.backends.mps.is_available()\n",
    "    else \"cpu\"\n",
    ")\n",
    "print(f\"Using {device} device\")"
   ]
  },
  {
   "cell_type": "markdown",
   "metadata": {},
   "source": [
    "# Construct network"
   ]
  },
  {
   "cell_type": "code",
   "execution_count": 52,
   "metadata": {},
   "outputs": [],
   "source": [
    "class RecommenderModel(nn.Module):\n",
    "    def __init__(self, config):\n",
    "        super(RecommenderModel, self).__init__()\n",
    "        \n",
    "        self.embedding_user = torch.nn.Embedding(num_embeddings=config['num_users'], embedding_dim=config['latent_dim'])\n",
    "        self.embedding_item = torch.nn.Embedding(num_embeddings=config['num_items'], embedding_dim=config['latent_dim'])\n",
    "        \n",
    "        ## MLP part\n",
    "        self.fc_layers = torch.nn.ModuleList()\n",
    "        for idx, (in_size, out_size) in enumerate(zip(config['layers'][:-1], config['layers'][1:])):\n",
    "            self.fc_layers.append(torch.nn.Linear(in_size, out_size))\n",
    "        \n",
    "        self.logits = torch.nn.Linear(in_features=config['layers'][-1] + config['latent_dim'], out_features=1)\n",
    "        self.sigmoid = torch.nn.Sigmoid()\n",
    "        \n",
    "        self.model_type = config['model_type']\n",
    "        \n",
    "    def forward(self, user_indices, item_indices):\n",
    "        user_embedding = self.embedding_user(user_indices)\n",
    "        item_embedding = self.embedding_item(item_indices)\n",
    "        \n",
    "        if self.model_type == 'GMF':\n",
    "            vector = torch.mul(user_embedding, item_embedding)\n",
    "        elif self.model_type == 'MLP':\n",
    "            vector = torch.cat([user_embedding, item_embedding], dim=-1)\n",
    "            for fc_layer in self.fc_layers:\n",
    "                vector = fc_layer(vector)\n",
    "                vector = torch.nn.ReLU()(vector)\n",
    "        elif self.model_type == 'NeuMF':\n",
    "            gmf_vector = torch.mul(user_embedding, item_embedding)\n",
    "            mlp_vector = torch.cat([user_embedding, item_embedding], dim=-1)\n",
    "            for fc_layer in self.fc_layers:\n",
    "                mlp_vector = fc_layer(mlp_vector)\n",
    "                mlp_vector = torch.nn.ReLU()(mlp_vector)\n",
    "            vector = torch.cat([gmf_vector, mlp_vector], dim=-1)\n",
    "        \n",
    "        # logits = self.logits(vector)\n",
    "        # output = self.sigmoid(logits)\n",
    "        output = self.sigmoid(vector)\n",
    "        return output\n"
   ]
  },
  {
   "cell_type": "markdown",
   "metadata": {},
   "source": [
    "# Load data & data preprocess"
   ]
  },
  {
   "cell_type": "code",
   "execution_count": 59,
   "metadata": {},
   "outputs": [],
   "source": [
    "from torch.utils.data import Dataset, DataLoader\n",
    "import scipy.sparse as sp\n",
    "\n",
    "class RatingDataset(Dataset):\n",
    "    def __init__(self, rating_mat, user_num, item_num, negative_num=4):\n",
    "        self.negative_num = negative_num\n",
    "        self.mat = rating_mat\n",
    "        self.user_num = user_num\n",
    "        self.item_num = item_num\n",
    "        self.user_ids = np.array(self.mat.row)\n",
    "        self.item_ids = np.array(self.mat.col)\n",
    "        self.ratings = np.array(self.mat.data, dtype=np.float32)\n",
    "        self.labels = (self.ratings>0).astype(np.float32)\n",
    "\n",
    "    def __len__(self):\n",
    "        return len(self.labels)\n",
    "\n",
    "    def __getitem__(self, idx):\n",
    "        # get user id and item id\n",
    "        user_id = self.user_ids[idx]\n",
    "        item_id = self.item_ids[idx]\n",
    "        labels = self.labels[idx]\n",
    "\n",
    "        # create one hot vector\n",
    "        user_vec = torch.zeros(self.user_num,dtype = torch.float32)\n",
    "        item_vec = torch.zeros(self.item__num,dtype = torch.float32)\n",
    "        user_vec[user_id] = 1\n",
    "        item_vec[item_id] = 1\n",
    "        \n",
    "        # get negative items vec for this user\n",
    "        return user_vec, item_vec, labels\n",
    "\n",
    "def load_rating_file_as_sparse(filename):\n",
    "    num_users, num_items = 0, 0\n",
    "    with open(filename, \"r\") as f:\n",
    "        for line in f:\n",
    "            arr = line.split(\"\\t\")\n",
    "            user, item = int(arr[0]), int(arr[1])\n",
    "            num_users = max(num_users, user) + 1\n",
    "            num_items = max(num_items, item) + 1\n",
    "\n",
    "    mat = sp.dok_matrix((num_users, num_items), dtype=np.float32)\n",
    "    with open(filename, \"r\") as f:\n",
    "        for line in f:\n",
    "            arr = line.split(\"\\t\")\n",
    "            user, item, rating = int(arr[0]), int(arr[1]), float(arr[2])\n",
    "            if rating > 0:\n",
    "                mat[user, item] = rating\n",
    "    return mat, num_users, num_items\n",
    "    # return mat.tocsr(), num_users, num_items\n",
    "\n",
    "def load_negative_file(filename):\n",
    "    negativeList = []\n",
    "    with open(filename, \"r\") as f:\n",
    "        line = f.readline()\n",
    "        while line != None and line != \"\":\n",
    "            arr = line.split(\"\\t\")\n",
    "            negatives = []\n",
    "            for x in arr[1: ]:\n",
    "                negatives.append(int(x))\n",
    "            negativeList.append(negatives)\n",
    "            line = f.readline()\n",
    "    return negativeList"
   ]
  },
  {
   "cell_type": "code",
   "execution_count": 54,
   "metadata": {},
   "outputs": [],
   "source": [
    "# import pandas as pd\n",
    "# df = pd.read_csv(\"Data/ml-1m.train.rating\",sep='\\t', header=None, names=['uid', 'mid', 'rating', 'timestamp'], engine='python')\n",
    "# df"
   ]
  },
  {
   "cell_type": "code",
   "execution_count": 68,
   "metadata": {},
   "outputs": [],
   "source": [
    "# df2 = pd.read_csv(\"Data/ml-1m.test.negative\",sep = \"\\t\",header=None)\n",
    "# df2\n"
   ]
  },
  {
   "cell_type": "markdown",
   "metadata": {},
   "source": [
    "# Trian and Test"
   ]
  },
  {
   "cell_type": "code",
   "execution_count": 56,
   "metadata": {
    "notebookRunGroups": {
     "groupValue": "2"
    }
   },
   "outputs": [],
   "source": [
    "BATCH_SIZE = 256\n",
    "NUMEPOCHS = 50"
   ]
  },
  {
   "cell_type": "code",
   "execution_count": 57,
   "metadata": {},
   "outputs": [
    {
     "ename": "AttributeError",
     "evalue": "'dok_matrix' object has no attribute 'row'",
     "output_type": "error",
     "traceback": [
      "\u001b[0;31m---------------------------------------------------------------------------\u001b[0m",
      "\u001b[0;31mAttributeError\u001b[0m                            Traceback (most recent call last)",
      "Cell \u001b[0;32mIn[57], line 2\u001b[0m\n\u001b[1;32m      1\u001b[0m rating_mat, num_of_user, num_of_item \u001b[38;5;241m=\u001b[39m load_rating_file_as_sparse(\u001b[38;5;124m\"\u001b[39m\u001b[38;5;124mData/ml-1m.train.rating\u001b[39m\u001b[38;5;124m\"\u001b[39m)\n\u001b[0;32m----> 2\u001b[0m train_dataset \u001b[38;5;241m=\u001b[39m \u001b[43mRatingDataset\u001b[49m\u001b[43m(\u001b[49m\u001b[43mrating_mat\u001b[49m\u001b[43m,\u001b[49m\u001b[43m \u001b[49m\u001b[43mnum_of_user\u001b[49m\u001b[43m,\u001b[49m\u001b[43m \u001b[49m\u001b[43mnum_of_item\u001b[49m\u001b[43m)\u001b[49m\n\u001b[1;32m      3\u001b[0m train_dataloader \u001b[38;5;241m=\u001b[39m DataLoader(train_dataset, batch_size\u001b[38;5;241m=\u001b[39mBATCH_SIZE, shuffle\u001b[38;5;241m=\u001b[39m\u001b[38;5;28;01mTrue\u001b[39;00m)\n",
      "Cell \u001b[0;32mIn[53], line 9\u001b[0m, in \u001b[0;36mRatingDataset.__init__\u001b[0;34m(self, sparse_mat, user_num, item_num)\u001b[0m\n\u001b[1;32m      7\u001b[0m \u001b[38;5;28mself\u001b[39m\u001b[38;5;241m.\u001b[39muser_num \u001b[38;5;241m=\u001b[39m user_num\n\u001b[1;32m      8\u001b[0m \u001b[38;5;28mself\u001b[39m\u001b[38;5;241m.\u001b[39mitem_num \u001b[38;5;241m=\u001b[39m item_num\n\u001b[0;32m----> 9\u001b[0m \u001b[38;5;28mself\u001b[39m\u001b[38;5;241m.\u001b[39muser_ids \u001b[38;5;241m=\u001b[39m np\u001b[38;5;241m.\u001b[39marray(\u001b[38;5;28;43mself\u001b[39;49m\u001b[38;5;241;43m.\u001b[39;49m\u001b[43mmat\u001b[49m\u001b[38;5;241;43m.\u001b[39;49m\u001b[43mrow\u001b[49m)\n\u001b[1;32m     10\u001b[0m \u001b[38;5;28mself\u001b[39m\u001b[38;5;241m.\u001b[39mitem_ids \u001b[38;5;241m=\u001b[39m np\u001b[38;5;241m.\u001b[39marray(\u001b[38;5;28mself\u001b[39m\u001b[38;5;241m.\u001b[39mmat\u001b[38;5;241m.\u001b[39mcol)\n\u001b[1;32m     11\u001b[0m \u001b[38;5;28mself\u001b[39m\u001b[38;5;241m.\u001b[39mratings \u001b[38;5;241m=\u001b[39m np\u001b[38;5;241m.\u001b[39marray(\u001b[38;5;28mself\u001b[39m\u001b[38;5;241m.\u001b[39mmat\u001b[38;5;241m.\u001b[39mdata, dtype\u001b[38;5;241m=\u001b[39mnp\u001b[38;5;241m.\u001b[39mfloat32)\n",
      "\u001b[0;31mAttributeError\u001b[0m: 'dok_matrix' object has no attribute 'row'"
     ]
    }
   ],
   "source": [
    "rating_mat, num_of_user, num_of_item = load_rating_file_as_sparse(\"Data/ml-1m.train.rating\")\n",
    "negative_list = load_negative_file(\"Data/ml-1m.test.negative\")\n",
    "\n",
    "train_dataset = RatingDataset(rating_mat, negative_list,num_of_user, num_of_item,negative_num=9)\n",
    "train_dataloader = DataLoader(train_dataset, batch_size=BATCH_SIZE, shuffle=True)"
   ]
  },
  {
   "cell_type": "code",
   "execution_count": null,
   "metadata": {},
   "outputs": [],
   "source": [
    "config = {\n",
    "    'num_users': 1000,\n",
    "    'num_items': 2000,\n",
    "    'latent_dim': 8,\n",
    "    'layers': [64, 32, 16,8],\n",
    "    'model_type': 'GMF'     #　MLP, NeuMF\n",
    "}\n",
    "\n",
    "model = RecommenderModel(config)\n",
    "model = model.to(device)\n",
    "print(model)"
   ]
  },
  {
   "cell_type": "code",
   "execution_count": null,
   "metadata": {},
   "outputs": [],
   "source": [
    "# 定义损失函数和优化器\n",
    "criterion = nn.BCELoss()\n",
    "optimizer = optim.Adam(model.parameters(), lr=0.001)\n",
    "\n",
    "# 训练模型\n",
    "for epoch in range(NUMEPOCHS):\n",
    "    for user, item, label in train_dataloader:  # dataloader应返回用户ID、物品ID和标签（1表示正样本，0表示负样本）\n",
    "        # 清除之前的梯度\n",
    "        optimizer.zero_grad()\n",
    "        # 前向传播\n",
    "        output = model(user, item)\n",
    "        # 计算损失\n",
    "        loss = criterion(output, label)\n",
    "        # 反向传播和优化\n",
    "        loss.backward()\n",
    "        optimizer.step()\n",
    "    # 每轮结束输出损失\n",
    "    print(f'Epoch {epoch+1}, Loss: {loss.item()}')"
   ]
  }
 ],
 "metadata": {
  "kernelspec": {
   "display_name": "Python 3",
   "language": "python",
   "name": "python3"
  },
  "language_info": {
   "codemirror_mode": {
    "name": "ipython",
    "version": 3
   },
   "file_extension": ".py",
   "mimetype": "text/x-python",
   "name": "python",
   "nbconvert_exporter": "python",
   "pygments_lexer": "ipython3",
   "version": "3.10.12"
  }
 },
 "nbformat": 4,
 "nbformat_minor": 2
}
