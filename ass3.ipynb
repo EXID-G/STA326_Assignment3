{
 "cells": [
  {
   "cell_type": "markdown",
   "metadata": {},
   "source": [
    "# Preparation"
   ]
  },
  {
   "cell_type": "code",
   "execution_count": 1,
   "metadata": {},
   "outputs": [
    {
     "data": {
      "text/plain": [
       "'2.3.0a0+6ddf5cf85e.nv24.04'"
      ]
     },
     "execution_count": 1,
     "metadata": {},
     "output_type": "execute_result"
    }
   ],
   "source": [
    "import torch\n",
    "torch.__version__"
   ]
  },
  {
   "cell_type": "code",
   "execution_count": 2,
   "metadata": {},
   "outputs": [],
   "source": [
    "import os\n",
    "import pandas as pd\n",
    "import numpy as np\n",
    "import random\n",
    "from torch import nn\n",
    "\n",
    "from torch.utils.data import Dataset, DataLoader\n",
    "from tqdm import tqdm\n",
    "\n",
    "from model import *\n",
    "from dataset import *\n",
    "from train import *"
   ]
  },
  {
   "cell_type": "code",
   "execution_count": 3,
   "metadata": {},
   "outputs": [
    {
     "name": "stdout",
     "output_type": "stream",
     "text": [
      "Using cuda device\n"
     ]
    }
   ],
   "source": [
    "device = (\n",
    "    \"cuda\"\n",
    "    if torch.cuda.is_available()\n",
    "    else \"mps\"\n",
    "    if torch.backends.mps.is_available()\n",
    "    else \"cpu\"\n",
    ")\n",
    "print(f\"Using {device} device\")"
   ]
  },
  {
   "cell_type": "code",
   "execution_count": 4,
   "metadata": {},
   "outputs": [],
   "source": [
    "BATCH_SIZE = 256\n",
    "NUMEPOCHS = 50"
   ]
  },
  {
   "cell_type": "code",
   "execution_count": 5,
   "metadata": {},
   "outputs": [],
   "source": [
    "# import pandas as pd\n",
    "# df = pd.read_csv(\"Data/ml-1m.train.rating\",sep='\\t', header=None, names=['uid', 'mid', 'rating', 'timestamp'], engine='python')\n",
    "# df"
   ]
  },
  {
   "cell_type": "code",
   "execution_count": 6,
   "metadata": {},
   "outputs": [],
   "source": [
    "# df2 = pd.read_csv(\"Data/ml-1m.test.negative\",sep = \"\\t\",header=None)\n",
    "# df2"
   ]
  },
  {
   "cell_type": "markdown",
   "metadata": {},
   "source": [
    "# Trian and Test"
   ]
  },
  {
   "cell_type": "markdown",
   "metadata": {},
   "source": [
    "### Compare the three methods "
   ]
  },
  {
   "cell_type": "code",
   "execution_count": 7,
   "metadata": {},
   "outputs": [
    {
     "name": "stdout",
     "output_type": "stream",
     "text": [
      "Using cuda device\n",
      "Loading preprocessed data from preprocessed_data/ml.pkl\n"
     ]
    },
    {
     "ename": "TypeError",
     "evalue": "RatingDataset.get_train_instances() got multiple values for argument 'train'",
     "output_type": "error",
     "traceback": [
      "\u001b[0;31m---------------------------------------------------------------------------\u001b[0m",
      "\u001b[0;31mTypeError\u001b[0m                                 Traceback (most recent call last)",
      "Cell \u001b[0;32mIn[7], line 21\u001b[0m\n\u001b[1;32m      8\u001b[0m model_config_mlp \u001b[38;5;241m=\u001b[39m {\n\u001b[1;32m      9\u001b[0m     \u001b[38;5;124m\"\u001b[39m\u001b[38;5;124mmlp_layers(X)\u001b[39m\u001b[38;5;124m\"\u001b[39m : \u001b[38;5;241m3\u001b[39m,\n\u001b[1;32m     10\u001b[0m     \u001b[38;5;124m'\u001b[39m\u001b[38;5;124mmlp_layers\u001b[39m\u001b[38;5;124m'\u001b[39m: [\u001b[38;5;241m32\u001b[39m, \u001b[38;5;241m16\u001b[39m, \u001b[38;5;241m8\u001b[39m],\n\u001b[1;32m     11\u001b[0m     \u001b[38;5;124m'\u001b[39m\u001b[38;5;124mmodel_type\u001b[39m\u001b[38;5;124m'\u001b[39m: \u001b[38;5;124m'\u001b[39m\u001b[38;5;124mMLP\u001b[39m\u001b[38;5;124m'\u001b[39m     \u001b[38;5;66;03m#　MLP, NeuMF\u001b[39;00m\n\u001b[1;32m     12\u001b[0m }\n\u001b[1;32m     14\u001b[0m model_config_neumf \u001b[38;5;241m=\u001b[39m {\n\u001b[1;32m     15\u001b[0m     \u001b[38;5;124m'\u001b[39m\u001b[38;5;124membedding_dim_mf\u001b[39m\u001b[38;5;124m'\u001b[39m: \u001b[38;5;241m8\u001b[39m,\n\u001b[1;32m     16\u001b[0m     \u001b[38;5;124m\"\u001b[39m\u001b[38;5;124mmlp_layers(X)\u001b[39m\u001b[38;5;124m\"\u001b[39m : \u001b[38;5;241m3\u001b[39m,\n\u001b[1;32m     17\u001b[0m     \u001b[38;5;124m'\u001b[39m\u001b[38;5;124mmlp_layers\u001b[39m\u001b[38;5;124m'\u001b[39m: [\u001b[38;5;241m32\u001b[39m, \u001b[38;5;241m16\u001b[39m, \u001b[38;5;241m8\u001b[39m],\n\u001b[1;32m     18\u001b[0m     \u001b[38;5;124m'\u001b[39m\u001b[38;5;124mmodel_type\u001b[39m\u001b[38;5;124m'\u001b[39m: \u001b[38;5;124m'\u001b[39m\u001b[38;5;124mNeuMF\u001b[39m\u001b[38;5;124m'\u001b[39m     \u001b[38;5;66;03m#　MLP, NeuMF\u001b[39;00m\n\u001b[1;32m     19\u001b[0m }\n\u001b[0;32m---> 21\u001b[0m \u001b[43mmodel_train\u001b[49m\u001b[43m(\u001b[49m\u001b[43mmodel_config_mf\u001b[49m\u001b[43m,\u001b[49m\u001b[43m \u001b[49m\u001b[43mseed\u001b[49m\u001b[43m \u001b[49m\u001b[38;5;241;43m=\u001b[39;49m\u001b[43m \u001b[49m\u001b[38;5;241;43m42\u001b[39;49m\u001b[43m,\u001b[49m\u001b[43mnum_of_negatives\u001b[49m\u001b[38;5;241;43m=\u001b[39;49m\u001b[38;5;241;43m10\u001b[39;49m\u001b[43m)\u001b[49m\n",
      "File \u001b[0;32m/STA326_zc/STA326_Assignment3/train.py:28\u001b[0m, in \u001b[0;36mmodel_train\u001b[0;34m(config, num_of_negatives, preprocessed_filepath, batch_size, num_of_epochs, seed)\u001b[0m\n\u001b[1;32m     26\u001b[0m rating_mat, num_of_user, num_of_item, negative_sample_list, testing_ratings_list \u001b[38;5;241m=\u001b[39m init_train_data(preprocessed_filepath)\n\u001b[1;32m     27\u001b[0m \u001b[38;5;66;03m# print(\"after init\",num_of_user, num_of_item)\u001b[39;00m\n\u001b[0;32m---> 28\u001b[0m train_dataset \u001b[38;5;241m=\u001b[39m \u001b[43mRatingDataset\u001b[49m\u001b[43m(\u001b[49m\u001b[43mrating_mat\u001b[49m\u001b[43m,\u001b[49m\u001b[43m \u001b[49m\u001b[43mnegative_sample_list\u001b[49m\u001b[43m,\u001b[49m\u001b[43m \u001b[49m\u001b[43mnum_of_user\u001b[49m\u001b[43m,\u001b[49m\u001b[43m \u001b[49m\u001b[43mnum_of_item\u001b[49m\u001b[43m,\u001b[49m\u001b[43m \u001b[49m\u001b[43mnum_of_negatives\u001b[49m\u001b[43m)\u001b[49m\n\u001b[1;32m     29\u001b[0m train_dataloader \u001b[38;5;241m=\u001b[39m DataLoader(train_dataset, batch_size\u001b[38;5;241m=\u001b[39mbatch_size, shuffle\u001b[38;5;241m=\u001b[39m\u001b[38;5;28;01mTrue\u001b[39;00m)\n\u001b[1;32m     31\u001b[0m \u001b[38;5;66;03m####* set model, loss, and optimizer\u001b[39;00m\n",
      "File \u001b[0;32m/STA326_zc/STA326_Assignment3/dataset.py:30\u001b[0m, in \u001b[0;36mRatingDataset.__init__\u001b[0;34m(self, rating_mat, negative_list, user_num, item_num, negative_num)\u001b[0m\n\u001b[1;32m     10\u001b[0m \u001b[38;5;28mself\u001b[39m\u001b[38;5;241m.\u001b[39mitem_num \u001b[38;5;241m=\u001b[39m item_num\n\u001b[1;32m     11\u001b[0m \u001b[38;5;66;03m# print(user_num)\u001b[39;00m\n\u001b[1;32m     12\u001b[0m \u001b[38;5;66;03m# print(item_num)\u001b[39;00m\n\u001b[1;32m     13\u001b[0m \n\u001b[0;32m   (...)\u001b[0m\n\u001b[1;32m     28\u001b[0m \u001b[38;5;66;03m#     self.item_ids.extend(negatives_items)\u001b[39;00m\n\u001b[1;32m     29\u001b[0m \u001b[38;5;66;03m#     self.labels.extend([0 for _ in range(len(negatives_items))])\u001b[39;00m\n\u001b[0;32m---> 30\u001b[0m \u001b[38;5;28mself\u001b[39m\u001b[38;5;241m.\u001b[39muser_ids, \u001b[38;5;28mself\u001b[39m\u001b[38;5;241m.\u001b[39mitem_ids, \u001b[38;5;28mself\u001b[39m\u001b[38;5;241m.\u001b[39mlabels \u001b[38;5;241m=\u001b[39m \u001b[38;5;28;43mself\u001b[39;49m\u001b[38;5;241;43m.\u001b[39;49m\u001b[43mget_train_instances\u001b[49m\u001b[43m(\u001b[49m\u001b[43mtrain\u001b[49m\u001b[43m \u001b[49m\u001b[38;5;241;43m=\u001b[39;49m\u001b[43m \u001b[49m\u001b[43mrating_mat\u001b[49m\u001b[43m,\u001b[49m\u001b[43m \u001b[49m\u001b[43mnum_negatives\u001b[49m\u001b[38;5;241;43m=\u001b[39;49m\u001b[43mnegative_num\u001b[49m\u001b[43m,\u001b[49m\u001b[43mnum_items\u001b[49m\u001b[43m \u001b[49m\u001b[38;5;241;43m=\u001b[39;49m\u001b[43m \u001b[49m\u001b[43mitem_num\u001b[49m\u001b[43m)\u001b[49m\n",
      "\u001b[0;31mTypeError\u001b[0m: RatingDataset.get_train_instances() got multiple values for argument 'train'"
     ]
    }
   ],
   "source": [
    "model_config_mf = {\n",
    "    'embedding_dim_mf': 8,\n",
    "    # \"mlp_layers(X)\" : 0,\n",
    "    # 'mlp_layers': [ 32, 16, 8],\n",
    "    'model_type': 'GMF'     #　MLP, NeuMF\n",
    "}\n",
    "\n",
    "model_config_mlp = {\n",
    "    \"mlp_layers(X)\" : 3,\n",
    "    'mlp_layers': [32, 16, 8],\n",
    "    'model_type': 'MLP'     #　MLP, NeuMF\n",
    "}\n",
    "\n",
    "model_config_neumf = {\n",
    "    'embedding_dim_mf': 8,\n",
    "    \"mlp_layers(X)\" : 3,\n",
    "    'mlp_layers': [32, 16, 8],\n",
    "    'model_type': 'NeuMF'     #　MLP, NeuMF\n",
    "}\n",
    "\n",
    "model_train(model_config_mf, seed = 42,num_of_negatives=10)\n"
   ]
  },
  {
   "cell_type": "markdown",
   "metadata": {},
   "source": [
    "for movielens\n",
    "\n",
    "HR, NDCG\n",
    "\n",
    "-   `bias = False` for some linear layers\n",
    "    -   GMF(Factor-8, X-0): 0.3490, 0.1849\n",
    "    -   MLP(Factor-8, X-3): 0.4235, 0.2279\n",
    "    -   NeuMF(Factor-8, X-3): 0.4233, 0.2258"
   ]
  },
  {
   "cell_type": "markdown",
   "metadata": {},
   "source": [
    "## Reproduce the ablation study --- MLP with different layers"
   ]
  },
  {
   "cell_type": "markdown",
   "metadata": {},
   "source": [
    " K: 8\n",
    " \n",
    " layers (X): 0, 1, 2, 3, 4"
   ]
  },
  {
   "cell_type": "code",
   "execution_count": null,
   "metadata": {},
   "outputs": [],
   "source": [
    "# model_config_mlp0 = {\n",
    "#     \"mlp_layers(X)\" : 0,\n",
    "#     'mlp_layers': [8],\n",
    "#     'model_type': 'MLP'     #　MLP, NeuMF\n",
    "# }\n",
    "\n",
    "# model_config_mlp1 = {\n",
    "#     \"mlp_layers(X)\" : 1,\n",
    "#     'mlp_layers': [8],\n",
    "#     'model_type': 'MLP'     #　MLP, NeuMF\n",
    "# }\n",
    "\n",
    "# model_config_mlp2 = {\n",
    "#     \"mlp_layers(X)\" : 2,\n",
    "#     'mlp_layers': [16, 8],\n",
    "#     'model_type': 'MLP'     #　MLP, NeuMF\n",
    "# }\n",
    "\n",
    "# model_config_mlp3 = {\n",
    "#     \"mlp_layers(X)\" : 4,\n",
    "#     'mlp_layers': [32, 16, 8],\n",
    "#     'model_type': 'MLP'     #　MLP, NeuMF\n",
    "# }\n",
    "\n",
    "# model_config_mlp4 = {\n",
    "#     \"mlp_layers(X)\" : 4,\n",
    "#     'mlp_layers': [64, 32, 16, 8],\n",
    "#     'model_type': 'MLP'     #　MLP, NeuMF\n",
    "# }\n",
    "\n",
    "# model_train(model_config_mlp2)\n"
   ]
  },
  {
   "cell_type": "markdown",
   "metadata": {},
   "source": [
    "HR, NDCG\n",
    "\n",
    "-   MLP0: 0.4368, 0.2394\n",
    "-   MLP1: 0.4368, 0.2394\n",
    "-   MLP2: 0.4222, 0.2244\n",
    "-   MLP3: "
   ]
  }
 ],
 "metadata": {
  "kernelspec": {
   "display_name": "Python 3",
   "language": "python",
   "name": "python3"
  },
  "language_info": {
   "codemirror_mode": {
    "name": "ipython",
    "version": 3
   },
   "file_extension": ".py",
   "mimetype": "text/x-python",
   "name": "python",
   "nbconvert_exporter": "python",
   "pygments_lexer": "ipython3",
   "version": "3.10.12"
  }
 },
 "nbformat": 4,
 "nbformat_minor": 2
}
