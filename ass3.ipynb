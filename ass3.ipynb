{
 "cells": [
  {
   "cell_type": "markdown",
   "metadata": {},
   "source": [
    "# Preparation"
   ]
  },
  {
   "cell_type": "code",
   "execution_count": null,
   "metadata": {},
   "outputs": [],
   "source": [
    "import torch\n",
    "torch.__version__"
   ]
  },
  {
   "cell_type": "code",
   "execution_count": null,
   "metadata": {},
   "outputs": [],
   "source": [
    "import os\n",
    "import pandas as pd\n",
    "import numpy as np\n",
    "import random\n",
    "from torch import nn\n",
    "\n",
    "from torch.utils.data import Dataset, DataLoader\n",
    "from tqdm import tqdm\n",
    "\n",
    "from model import *\n",
    "from dataset import *\n",
    "from train import *"
   ]
  },
  {
   "cell_type": "code",
   "execution_count": null,
   "metadata": {},
   "outputs": [],
   "source": [
    "device = (\n",
    "    \"cuda\"\n",
    "    if torch.cuda.is_available()\n",
    "    else \"mps\"\n",
    "    if torch.backends.mps.is_available()\n",
    "    else \"cpu\"\n",
    ")\n",
    "print(f\"Using {device} device\")"
   ]
  },
  {
   "cell_type": "code",
   "execution_count": null,
   "metadata": {},
   "outputs": [],
   "source": [
    "BATCH_SIZE = 256\n",
    "NUMEPOCHS = 50"
   ]
  },
  {
   "cell_type": "code",
   "execution_count": null,
   "metadata": {},
   "outputs": [],
   "source": [
    "# import pandas as pd\n",
    "# df = pd.read_csv(\"Data/ml-1m.train.rating\",sep='\\t', header=None, names=['uid', 'mid', 'rating', 'timestamp'], engine='python')\n",
    "# df"
   ]
  },
  {
   "cell_type": "code",
   "execution_count": null,
   "metadata": {},
   "outputs": [],
   "source": [
    "# df2 = pd.read_csv(\"Data/ml-1m.test.negative\",sep = \"\\t\",header=None)\n",
    "# df2"
   ]
  },
  {
   "cell_type": "markdown",
   "metadata": {},
   "source": [
    "# Trian and Test"
   ]
  },
  {
   "cell_type": "markdown",
   "metadata": {},
   "source": [
    "### Compare the three methods "
   ]
  },
  {
   "cell_type": "code",
   "execution_count": null,
   "metadata": {},
   "outputs": [],
   "source": [
    "# model_config_mf = {\n",
    "#     \"model_mark\": \"gmf(mf_dim=8)\",\n",
    "#     'embedding_dim_mf': 8,\n",
    "#     # \"mlp_layers(X)\" : 0,\n",
    "#     # 'mlp_layers': [ 32, 16, 8],\n",
    "#     'model_type': 'GMF'     #　MLP, NeuMF\n",
    "# }\n",
    "\n",
    "# model_config_mlp = {\n",
    "#     \"model_mark\": \"mlp(mlp_layer=3)\",\n",
    "#     \"mlp_layers(X)\" : 3,\n",
    "#     'mlp_layers': [64, 32, 16, 8],\n",
    "#     'model_type': 'MLP'     #　MLP, NeuMF\n",
    "# }\n",
    "\n",
    "# model_config_neumf = {\n",
    "#     \"model_mark\": \"neumf(mf_dim=8,mlp_layer=3)\",\n",
    "#     'embedding_dim_mf': 8,\n",
    "#     \"mlp_layers(X)\" : 3,\n",
    "#     'mlp_layers': [64, 32, 16, 8],\n",
    "#     'model_type': 'NeuMF'     #　MLP, NeuMF\n",
    "# }\n",
    "\n",
    "# model_train(model_config_mf, seed = 42, num_of_negatives=4, num_of_epochs = 50)\n"
   ]
  },
  {
   "cell_type": "code",
   "execution_count": null,
   "metadata": {},
   "outputs": [],
   "source": [
    "# model_train(model_config_mlp, seed = 42, num_of_negatives=4, num_of_epochs=30)\n"
   ]
  },
  {
   "cell_type": "code",
   "execution_count": null,
   "metadata": {},
   "outputs": [],
   "source": [
    "# model_train(model_config_neumf, seed = 42, num_of_negatives=4, num_of_epochs=30)\n"
   ]
  },
  {
   "cell_type": "markdown",
   "metadata": {},
   "source": [
    "for movielens\n",
    "\n",
    "HR, NDCG\n",
    "\n",
    "-   GMF(Factor-8, X-0): 0.6339, 0.3621\n",
    "-   MLP(Factor-8, X-3): 0.6109, 0.3434\n",
    "-   NeuMF(Factor-8, X-3): 0.6474, 0.3731"
   ]
  },
  {
   "cell_type": "markdown",
   "metadata": {},
   "source": [
    "## Reproduce the ablation study --- MLP with different layers"
   ]
  },
  {
   "cell_type": "markdown",
   "metadata": {},
   "source": [
    " K: 8\n",
    " \n",
    " layers (X): 0, 1, 2, 3, 4"
   ]
  },
  {
   "cell_type": "code",
   "execution_count": null,
   "metadata": {},
   "outputs": [],
   "source": [
    "# model_config_mlp0 = {\n",
    "#     \"model_mark\": \"mlp(mlp_layer=0)\",\n",
    "#     \"mlp_layers(X)\" : 0,\n",
    "#     'mlp_layers': [8],\n",
    "#     'model_type': 'MLP'     #　MLP, NeuMF\n",
    "# }\n",
    "\n",
    "# model_config_mlp1 = {\n",
    "#     \"model_mark\": \"mlp(mlp_layer=1)\",\n",
    "#     \"mlp_layers(X)\" : 1,\n",
    "#     'mlp_layers': [16,8],\n",
    "#     'model_type': 'MLP'     #　MLP, NeuMF\n",
    "# }\n",
    "\n",
    "# #! [8][:-1],[8][1:]    # ([], [])\n",
    "# #! [8,16][:-1],[8,16][1:]  # ([8], [16])\n",
    "\n",
    "# model_config_mlp2 = {\n",
    "#     \"model_mark\": \"mlp(mlp_layer=2)\",\n",
    "#     \"mlp_layers(X)\" : 2,\n",
    "#     'mlp_layers': [32,16, 8],\n",
    "#     'model_type': 'MLP'     #　MLP, NeuMF\n",
    "# }\n",
    "\n",
    "# model_config_mlp3 = {\n",
    "#     \"model_mark\": \"mlp(mlp_layer=3)\",\n",
    "#     \"mlp_layers(X)\" : 3,\n",
    "#     'mlp_layers': [64,32, 16, 8],\n",
    "#     'model_type': 'MLP'     #　MLP, NeuMF\n",
    "# }\n",
    "\n",
    "# model_config_mlp4 = {\n",
    "#     \"model_mark\": \"mlp(mlp_layer=4)\",\n",
    "#     \"mlp_layers(X)\" : 4,\n",
    "#     'mlp_layers': [128,64, 32, 16, 8],\n",
    "#     'model_type': 'MLP'     #　MLP, NeuMF\n",
    "# }\n",
    "\n",
    "# model_train(model_config_mlp0, seed = 42, num_of_negatives=4, num_of_epochs=30)\n"
   ]
  },
  {
   "cell_type": "code",
   "execution_count": null,
   "metadata": {},
   "outputs": [],
   "source": [
    "# model_train(model_config_mlp1, seed = 42, num_of_negatives=4, num_of_epochs=30)\n"
   ]
  },
  {
   "cell_type": "code",
   "execution_count": null,
   "metadata": {},
   "outputs": [],
   "source": [
    "# model_train(model_config_mlp2, seed = 42, num_of_negatives=4, num_of_epochs=30)\n"
   ]
  },
  {
   "cell_type": "code",
   "execution_count": null,
   "metadata": {},
   "outputs": [],
   "source": [
    "# model_train(model_config_mlp3, seed = 42, num_of_negatives=4, num_of_epochs=30)\n"
   ]
  },
  {
   "cell_type": "code",
   "execution_count": null,
   "metadata": {},
   "outputs": [],
   "source": [
    "# model_train(model_config_mlp4, seed = 42, num_of_negatives=4, num_of_epochs=30)\n"
   ]
  },
  {
   "cell_type": "markdown",
   "metadata": {},
   "source": [
    "HR, NDCG\n",
    "\n",
    "-   MLP0: 0.4533, 0.2521\n",
    "-   MLP1: 0.4907, 0.2731\n",
    "-   MLP2: 0.5104, 0.2847\n",
    "-   MLP3: 0.5667, 0.3159\n",
    "-   MLP4: 0.6053, 0.3423"
   ]
  },
  {
   "cell_type": "markdown",
   "metadata": {},
   "source": [
    "# Plot"
   ]
  }
 ],
 "metadata": {
  "kernelspec": {
   "display_name": "Python 3",
   "language": "python",
   "name": "python3"
  },
  "language_info": {
   "codemirror_mode": {
    "name": "ipython",
    "version": 3
   },
   "file_extension": ".py",
   "mimetype": "text/x-python",
   "name": "python",
   "nbconvert_exporter": "python",
   "pygments_lexer": "ipython3",
   "version": "3.10.12"
  }
 },
 "nbformat": 4,
 "nbformat_minor": 2
}
